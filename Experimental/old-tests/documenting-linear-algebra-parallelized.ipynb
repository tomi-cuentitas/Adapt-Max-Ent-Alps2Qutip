{
 "cells": [
  {
   "cell_type": "code",
   "execution_count": 15,
   "id": "240d536a",
   "metadata": {},
   "outputs": [],
   "source": [
    "import sys\n",
    "path='/home/tomas/Ulmer-Berechnung/alps2qutipplus-april/alps2qutipplus-main/'\n",
    "\n",
    "sys.path.insert(1, path) \n"
   ]
  },
  {
   "cell_type": "code",
   "execution_count": 16,
   "id": "e4275657",
   "metadata": {},
   "outputs": [],
   "source": [
    "import numpy as np\n",
    "import matplotlib.pyplot as plt\n",
    "import qutip as qutip\n",
    "import scipy.linalg as linalg\n",
    "import time\n",
    "from multiprocessing import Pool\n",
    "from itertools import product\n",
    "from typing import Optional\n",
    "\n",
    "from alpsqutip import (build_system, list_models_in_alps_xml,\n",
    "                       list_geometries_in_alps_xml, graph_from_alps_xml,\n",
    "                       model_from_alps_xml,\n",
    "                       restricted_maxent_toolkit as me)\n",
    "\n",
    "from alpsqutip.operators.states.utils import safe_exp_and_normalize ## function used to safely and robustly map K-states to states\n",
    "\n",
    "from alpsqutip.scalarprod.build import fetch_covar_scalar_product\n",
    "from alpsqutip.scalarprod.orthogonalize import orthogonalize_basis\n",
    "from alpsqutip.operators.states.gibbs import GibbsDensityOperator, GibbsProductDensityOperator"
   ]
  },
  {
   "cell_type": "code",
   "execution_count": 17,
   "id": "233a9f8a",
   "metadata": {},
   "outputs": [],
   "source": [
    "from alpsqutip.operators.states.meanfield.projections import (one_body_from_qutip_operator, \n",
    "                                                  project_operator_to_m_body, \n",
    "                                                             project_qutip_operator_to_m_body,\n",
    "                                                             project_to_n_body_operator,\n",
    "                                                             project_qutip_operator_as_n_body_operator,\n",
    "                                                             project_product_operator_as_n_body_operator)"
   ]
  },
  {
   "cell_type": "code",
   "execution_count": 18,
   "id": "a269af94",
   "metadata": {},
   "outputs": [],
   "source": [
    "\n",
    "from alpsqutip.operators.arithmetic import (\n",
    "    ScalarOperator,\n",
    "    LocalOperator,\n",
    "    OneBodyOperator,\n",
    "    Operator,\n",
    "    ProductOperator,\n",
    "    ScalarOperator,\n",
    "    SumOperator,\n",
    "    QutipOperator\n",
    ")\n",
    "\n",
    "from alpsqutip.operators.simplify import simplify_sum_operator"
   ]
  },
  {
   "cell_type": "code",
   "execution_count": 19,
   "id": "981e1689",
   "metadata": {},
   "outputs": [],
   "source": [
    "params={}\n",
    "\n",
    "params['size']=6\n",
    "params['Jx']=1.; params['Jy'] = .75*params['Jx']; params['Jz']=1.05*params['Jx']\n",
    "\n",
    "from scipy.optimize import root, fsolve\n",
    "Ffactor=np.real(max(np.roots(np.poly1d([1, 0, -(params['Jx']*params['Jy']+params['Jx']*params['Jy']+params['Jy']*params['Jz']), \n",
    "                           -2*params['Jx']*params['Jy']*params['Jz']]))))\n",
    "chi_y=fsolve(lambda x,y: x*np.arcsinh(x)-np.sqrt(x**2+1)-y, 1e-1, args=(0))[0]\n",
    "vLR=4*Ffactor*chi_y\n",
    "\n"
   ]
  },
  {
   "cell_type": "code",
   "execution_count": 20,
   "id": "a2946005",
   "metadata": {
    "scrolled": false
   },
   "outputs": [
    {
     "name": "stdout",
     "output_type": "stream",
     "text": [
      "loading model spin  over graph open chain lattice\n"
     ]
    }
   ],
   "source": [
    "system=build_system(geometry_name= \"open chain lattice\",model_name=\"spin\", \n",
    "                    L=params['size'], J=1)\n",
    "\n",
    "sites=[s for s in system.sites]\n",
    "sx_ops=[system.site_operator(\"Sx\", '1[' + str(a) + ']') for a in range(len(system.sites))]\n",
    "sy_ops=[system.site_operator(\"Sy\", '1[' + str(a) + ']') for a in range(len(system.sites))]\n",
    "sz_ops=[system.site_operator(\"Sz\", '1[' + str(a) + ']') for a in range(len(system.sites))]\n",
    "\n",
    "idop = [system.site_operator('identity@1[' + str(a) + ']') for a in range(len(system.sites))]\n",
    "from functools import reduce\n",
    "idop = reduce(Operator.__mul__, idop)\n",
    "\n",
    "#Iz = sum(sz_ops)\n",
    "H_nn = 0  # Proches voisins\n",
    "H_lr = 0  # Longue portée\n",
    "\n",
    "from itertools import combinations\n",
    "\n",
    "for i, j in combinations(range(params['size']), 2):\n",
    "    r = abs(i - j)\n",
    "    Jx_ij = params['Jx'] / r**3\n",
    "    Jy_ij = params['Jy'] / r**3\n",
    "    Jz_ij = params['Jz'] / r**3\n",
    "\n",
    "    term = (\n",
    "        Jx_ij * sx_ops[i] * sx_ops[j]\n",
    "        + Jy_ij * sy_ops[i] * sy_ops[j]\n",
    "        + Jz_ij * sz_ops[i] * sz_ops[j]\n",
    "    )\n",
    "\n",
    "    if r == 1:\n",
    "        H_nn += term  # Interaction de voisins immédiats\n",
    "    else:\n",
    "        H_lr += term  # Interaction à longue portée\n",
    "        \n",
    "H = H_nn + H_lr\n",
    "H = H.simplify()"
   ]
  },
  {
   "cell_type": "code",
   "execution_count": 21,
   "id": "da30200e",
   "metadata": {},
   "outputs": [],
   "source": [
    "z = 0.738259088061272"
   ]
  },
  {
   "cell_type": "code",
   "execution_count": 22,
   "id": "508c6548",
   "metadata": {},
   "outputs": [
    {
     "data": {
      "text/plain": [
       "[0.3063044948165552,\n",
       " 0.3063044948165552,\n",
       " 0.3063044948165552,\n",
       " 0.3063044948165552,\n",
       " 0.3063044948165552,\n",
       " 0.3063044948165552]"
      ]
     },
     "execution_count": 22,
     "metadata": {},
     "output_type": "execute_result"
    }
   ],
   "source": [
    "obs_SzA = sum(sz for sz in sz_ops)\n",
    "HBB0=[idop]+[sz for sz in sz_ops]\n",
    "\n",
    "phi0 = np.array([.0] + [-1.5+z/10 for _ in HBB0[1:]])\n",
    "\n",
    "K0 = me.k_state_from_phi_basis(phi0, HBB0).simplify()\n",
    "sigma0 = GibbsProductDensityOperator(K0)\n",
    "phi0[0] = np.log(sigma0.tr())\n",
    "K0 = me.k_state_from_phi_basis(phi0, HBB0).simplify()\n",
    "sigma0 = GibbsProductDensityOperator(K0)\n",
    "\n",
    "tgt_obs = obs_SzA\n",
    "[(sigma0 * op).tr().real for op in sz_ops] "
   ]
  },
  {
   "cell_type": "code",
   "execution_count": 23,
   "id": "87cb0682",
   "metadata": {},
   "outputs": [],
   "source": [
    "from concurrent.futures import ProcessPoolExecutor\n",
    "from itertools import product\n",
    "from alpsqutip.operators import ScalarOperator, SumOperator\n",
    "\n",
    "def _commutator_term_worker(hi_kj):\n",
    "    hi, kj = hi_kj\n",
    "    comm = (hi * kj - kj * hi).simplify()\n",
    "    return comm\n",
    "    \n",
    "def _projection_worker(args):\n",
    "    term, m_max, sigma_0 = args\n",
    "    return project_to_n_body_operator(\n",
    "        operator=term,\n",
    "        nmax=m_max,\n",
    "        sigma=sigma_0,\n",
    "    ).simplify().tidyup(1e-10)\n",
    "\n",
    "def parallelized_real_time_projection_of_hierarchical_basis(\n",
    "    generator, \n",
    "    seed_op,\n",
    "    sigma_ref,\n",
    "    m_max, \n",
    "    deep,\n",
    "    num_workers=None,\n",
    "    tidy_thresh=1e-5,\n",
    "):\n",
    "    if seed_op is None or deep == 0:\n",
    "        return []\n",
    "\n",
    "    basis = [seed_op]\n",
    "    gen_terms = (-1j * generator).as_sum_of_products().terms\n",
    "    system = generator.system\n",
    "\n",
    "    for i in range(1, deep):\n",
    "        current_op = basis[-1]\n",
    "        basis_last_terms = (\n",
    "            current_op.terms if isinstance(current_op, SumOperator)\n",
    "            else current_op.as_sum_of_products().terms\n",
    "        )\n",
    "\n",
    "        term_pairs = list(product(gen_terms, basis_last_terms))\n",
    "\n",
    "        with ProcessPoolExecutor(max_workers=num_workers) as executor:\n",
    "            commutator_terms = list(executor.map(_commutator_term_worker, term_pairs, chunksize=128))\n",
    "\n",
    "        commutator_terms = [term for term in commutator_terms if term is not None]\n",
    "        projection_args = [(term, m_max, sigma_ref) for term in commutator_terms]\n",
    "\n",
    "        with ProcessPoolExecutor(max_workers=num_workers) as executor:\n",
    "            projected_terms = list(executor.map(_projection_worker,\n",
    "                                                projection_args, chunksize=128))\n",
    "\n",
    "        local_op = sum(projected_terms, ScalarOperator(0, system=system))\n",
    "        local_op = (local_op).simplify()\n",
    "\n",
    "        # --- Debug check: small norm triggers early exit ---\n",
    "        norm_val = local_op.to_qutip().norm()\n",
    "        #print(f\"[DEBUG] Depth {i}: projected norm = {norm_val:.3e}\")\n",
    "        if norm_val < 1e-10:\n",
    "        #    print(\"[DEBUG] Basis update terminated early: projected operator norm too small.\")\n",
    "            break\n",
    "\n",
    "        basis.append(local_op)\n",
    "\n",
    "    return basis\n",
    "\n",
    "def _hij_worker_explicit(args):\n",
    "    \"\"\"\n",
    "    Compute (i, val) where val = Re⟨b_i | [H, b_last]_proj⟩.\n",
    "\n",
    "    Steps:\n",
    "        - Compute commutator: [H, b_last] = -i H b_last + i b_last H\n",
    "        - Project the commutator onto the m_max-body subspace using sigma_0 as reference\n",
    "        - Take the scalar product between b_i and the projected commutator\n",
    "\n",
    "    Parameters:\n",
    "        args (tuple): Contains the following elements:\n",
    "            i (int): Index of the current basis element.\n",
    "            basis_i (Operator): The i-th basis element b_i.\n",
    "            b_last (Operator): The operator b_j being commuted with H.\n",
    "            H (Operator): The system Hamiltonian.\n",
    "            sp (callable): Scalar product function sp(op1, op2) -> complex.\n",
    "            sigma_0 (Operator or State): Reference operator for projection.\n",
    "            m_max (int): Max number of bodies to retain in the projection.\n",
    "\n",
    "    Returns:\n",
    "        tuple: (i, val) where val is Re⟨b_i | [H, b_last]_proj⟩.\n",
    "    \"\"\"\n",
    "    i, basis_i, b_last, H, sp, sigma_0, m_max = args\n",
    "\n",
    "    # Compute commutator [H, b_last]\n",
    "    comm = (-1j * H * b_last + 1j * b_last * H).simplify()\n",
    "\n",
    "    # Project onto the m-body subspace\n",
    "    comm_proj = project_to_n_body_operator(\n",
    "        operator=comm,\n",
    "        nmax=m_max,\n",
    "        sigma=sigma_0\n",
    "    )\n",
    "\n",
    "    # Compute scalar product with basis_i\n",
    "    val = sp(basis_i, comm_proj)\n",
    "    return i, val"
   ]
  },
  {
   "cell_type": "code",
   "execution_count": 24,
   "id": "ab700bb8",
   "metadata": {},
   "outputs": [],
   "source": [
    "def parallel_gram_schmidt_with_gram(basis, sp: callable, tol=1e-6, num_threads=4):\n",
    "    \"\"\"\n",
    "    Parallel Gram-Schmidt orthogonalization with Gram matrix computation.\n",
    "\n",
    "    Args:\n",
    "        basis (List[Operator]): Initial (non-orthogonal) operator basis.\n",
    "        sp (Callable): Scalar product function.\n",
    "        tol (float): Threshold to drop near-zero vectors.\n",
    "        num_threads (int): Threads for parallel scalar product computation.\n",
    "\n",
    "    Returns:\n",
    "        orth_basis (List[Operator]): Orthonormalized operator basis {q_k}.\n",
    "        R (np.ndarray): Coefficients matrix s.t. q_k = sum_j R[k,j] * b_j.\n",
    "        G (np.ndarray): Gram matrix G[i,j] = sp(b_i, b_j).\n",
    "    \"\"\"\n",
    "\n",
    "    def ensure_consistent_system(op, system):\n",
    "        op.system = system\n",
    "        if hasattr(op, \"terms\"):\n",
    "            for term in op.terms:\n",
    "                term.system = system\n",
    "        return op\n",
    "\n",
    "    n = len(basis)\n",
    "    system = getattr(basis[0], \"system\", None)\n",
    "\n",
    "    # Compute full Gram matrix G in parallel\n",
    "    G = np.zeros((n, n), dtype=np.complex128)\n",
    "    with ThreadPoolExecutor(max_workers=num_threads) as executor:\n",
    "        # Upper triangular indices only\n",
    "        pairs = [(i, j) for i in range(n) for j in range(i, n)]\n",
    "        results = list(executor.map(lambda ij: (ij[0], ij[1], sp(basis[ij[0]], basis[ij[1]])), pairs))\n",
    "    for i, j, val in results:\n",
    "        G[i, j] = val\n",
    "        if i != j:\n",
    "            G[j, i] = np.conj(val)  # Hermitian\n",
    "\n",
    "    orth_basis = []\n",
    "    R_rows = []\n",
    "\n",
    "    for k, b_k in enumerate(basis):\n",
    "        q_k = deepcopy(b_k)\n",
    "        ensure_consistent_system(q_k, system)\n",
    "\n",
    "        Rk = np.zeros(n, dtype=np.complex128)\n",
    "        Rk[k] = 1.0\n",
    "\n",
    "        with ThreadPoolExecutor(max_workers=num_threads) as executor:\n",
    "            projections = list(executor.map(\n",
    "                lambda q_j: sp(q_j, q_k),\n",
    "                orth_basis\n",
    "            ))\n",
    "\n",
    "        for j, (proj, q_j) in enumerate(zip(projections, orth_basis)):\n",
    "            q_k = q_k - proj * q_j\n",
    "            Rk -= proj * R_rows[j]\n",
    "\n",
    "        norm = np.real(sp(q_k, q_k))**0.5\n",
    "        if norm < tol:\n",
    "            continue\n",
    "\n",
    "        q_k = q_k / norm\n",
    "        Rk = Rk / norm\n",
    "\n",
    "        ensure_consistent_system(q_k, system)\n",
    "        orth_basis.append(q_k)\n",
    "        R_rows.append(Rk)\n",
    "\n",
    "    R = np.array(R_rows)\n",
    "\n",
    "    return orth_basis, R, G"
   ]
  },
  {
   "cell_type": "code",
   "execution_count": 25,
   "id": "2f94c88a",
   "metadata": {},
   "outputs": [],
   "source": [
    "def real_time_projection_of_hierarchical_basis(generator, \n",
    "                                               seed_op,\n",
    "                                               sigma_ref,\n",
    "                                               nmax, \n",
    "                                               deep):\n",
    "    basis = []\n",
    "    if seed_op is not None and deep > 0:\n",
    "        basis += [seed_op]\n",
    "        \n",
    "        for i in range(1, deep):\n",
    "            local_op = -1j*me.commutator(generator.to_qutip_operator(), basis[-1].to_qutip_operator())\n",
    "            basis.append(project_to_n_body_operator(operator = local_op.simplify().as_sum_of_products(),\n",
    "                                                      nmax = nmax, \n",
    "                                                      sigma = sigma_ref).simplify())\n",
    "    return basis"
   ]
  },
  {
   "cell_type": "code",
   "execution_count": 26,
   "id": "1366791a",
   "metadata": {},
   "outputs": [],
   "source": [
    "HBB_ell_act_prl = parallelized_real_time_projection_of_hierarchical_basis(\n",
    "                    generator = H, \n",
    "                    seed_op = obs_SzA, \n",
    "                    sigma_ref = sigma0, \n",
    "                    m_max = 10,\n",
    "                    deep = 4\n",
    "                    )"
   ]
  },
  {
   "cell_type": "code",
   "execution_count": 27,
   "id": "fd468cef",
   "metadata": {},
   "outputs": [],
   "source": [
    "HBB_ell_act_non_prl = real_time_projection_of_hierarchical_basis(\n",
    "                        generator = H,\n",
    "                        seed_op = obs_SzA,\n",
    "                        sigma_ref = sigma0,\n",
    "                        nmax = 10, \n",
    "                        deep = 4\n",
    "                        )"
   ]
  },
  {
   "cell_type": "code",
   "execution_count": 28,
   "id": "dd060b44",
   "metadata": {
    "scrolled": true
   },
   "outputs": [
    {
     "data": {
      "text/plain": [
       "4.314673306344753"
      ]
     },
     "execution_count": 28,
     "metadata": {},
     "output_type": "execute_result"
    }
   ],
   "source": [
    "sp_local = fetch_covar_scalar_product(sigma0)\n",
    "sp_local(HBB_ell_act_prl[0], HBB_ell_act_prl[0])"
   ]
  },
  {
   "cell_type": "code",
   "execution_count": 29,
   "id": "107ae1ed",
   "metadata": {},
   "outputs": [
    {
     "data": {
      "text/plain": [
       "4.314673306344753"
      ]
     },
     "execution_count": 29,
     "metadata": {},
     "output_type": "execute_result"
    }
   ],
   "source": [
    "(sigma0 * HBB_ell_act_prl[0] * HBB_ell_act_prl[0]).tr()"
   ]
  },
  {
   "cell_type": "markdown",
   "id": "24a48845",
   "metadata": {},
   "source": [
    "### 1. Test 1: Here I am testing that the parallelized and non-parallelized projected bases yield the same"
   ]
  },
  {
   "cell_type": "code",
   "execution_count": 30,
   "id": "159750e1",
   "metadata": {
    "scrolled": true
   },
   "outputs": [
    {
     "data": {
      "text/plain": [
       "[0.0, 8.330547606693865e-15, 1.705825130357951e-14, 2.8508567221834965e-14]"
      ]
     },
     "execution_count": 30,
     "metadata": {},
     "output_type": "execute_result"
    }
   ],
   "source": [
    "[(op-qop).to_qutip().norm() for op,qop in zip(HBB_ell_act_prl, HBB_ell_act_non_prl)]"
   ]
  },
  {
   "cell_type": "markdown",
   "id": "6114dae0",
   "metadata": {},
   "source": [
    "### 1.bis Test 1.bis: Here I am testing that there is no problem with how sum_operators are being summed up, since these should yield the same results as before"
   ]
  },
  {
   "cell_type": "code",
   "execution_count": 31,
   "id": "eab01964",
   "metadata": {},
   "outputs": [
    {
     "data": {
      "text/plain": [
       "[0.0, 8.330547606693865e-15, 1.7046512140831324e-14, 2.8495873553652083e-14]"
      ]
     },
     "execution_count": 31,
     "metadata": {},
     "output_type": "execute_result"
    }
   ],
   "source": [
    "[(op.to_qutip()-qop.to_qutip()).norm() for op,qop in zip(HBB_ell_act_prl, HBB_ell_act_non_prl)]"
   ]
  },
  {
   "cell_type": "code",
   "execution_count": 32,
   "id": "4707c33e",
   "metadata": {},
   "outputs": [],
   "source": [
    "\n",
    "from concurrent.futures import ProcessPoolExecutor, ThreadPoolExecutor\n",
    "from copy import deepcopy"
   ]
  },
  {
   "cell_type": "code",
   "execution_count": 33,
   "id": "767166d4",
   "metadata": {},
   "outputs": [],
   "source": [
    "sp_local = fetch_covar_scalar_product(sigma=sigma0)"
   ]
  },
  {
   "cell_type": "code",
   "execution_count": 34,
   "id": "12daa583",
   "metadata": {
    "scrolled": true
   },
   "outputs": [
    {
     "name": "stdout",
     "output_type": "stream",
     "text": [
      "10.98222017288208\n"
     ]
    }
   ],
   "source": [
    "start = time.time()\n",
    "orth_basis_act_prl, R, Gram = parallel_gram_schmidt_with_gram(basis = HBB_ell_act_prl, \n",
    "                                              sp = sp_local, num_threads = 8)\n",
    "\n",
    "print(time.time() - start)"
   ]
  },
  {
   "cell_type": "code",
   "execution_count": 35,
   "id": "5b00fb49",
   "metadata": {},
   "outputs": [],
   "source": [
    "orth_basis_act_non_prl = orthogonalize_basis(basis = HBB_ell_act_non_prl, \n",
    "                                             sp = sp_local)"
   ]
  },
  {
   "cell_type": "markdown",
   "id": "66c84950",
   "metadata": {},
   "source": [
    "### 2. Test 2: Here I am testing that the parallelized and non-parallelized orthogonalizations yield the same results"
   ]
  },
  {
   "cell_type": "code",
   "execution_count": 36,
   "id": "97e9ecc1",
   "metadata": {
    "scrolled": true
   },
   "outputs": [
    {
     "data": {
      "text/plain": [
       "[0.0, 2.0857651568384745e-14, 6.651029120000482e-14, 1.995575051133275e-12]"
      ]
     },
     "execution_count": 36,
     "metadata": {},
     "output_type": "execute_result"
    }
   ],
   "source": [
    "[(op.to_qutip()-qop.to_qutip()).norm() for op,qop in zip(orth_basis_act_prl, orth_basis_act_non_prl)]"
   ]
  },
  {
   "cell_type": "markdown",
   "id": "92985872",
   "metadata": {},
   "source": [
    "### 2.bis Test 2.bis: Same as in test 1.bis"
   ]
  },
  {
   "cell_type": "code",
   "execution_count": 37,
   "id": "39dc5f51",
   "metadata": {
    "scrolled": true
   },
   "outputs": [
    {
     "data": {
      "text/plain": [
       "[0.0, 2.0857651568384745e-14, 6.645351059060844e-14, 1.99576115891999e-12]"
      ]
     },
     "execution_count": 37,
     "metadata": {},
     "output_type": "execute_result"
    }
   ],
   "source": [
    "[(op-qop).to_qutip().norm() for op,qop in zip(orth_basis_act_prl, orth_basis_act_non_prl)]"
   ]
  },
  {
   "cell_type": "markdown",
   "id": "6af634d3",
   "metadata": {},
   "source": [
    "### Test 3. From linear algebra, we know that $C = R B$ where C is the orthonormal basis and B is the original Hierarchical Basis, i.e.\n",
    "\n",
    "$B=R^{-1}C$"
   ]
  },
  {
   "cell_type": "code",
   "execution_count": 38,
   "id": "d6706ad8",
   "metadata": {
    "scrolled": false
   },
   "outputs": [
    {
     "data": {
      "text/plain": [
       "[0.0, 0.0, 0.0, 0.0]"
      ]
     },
     "execution_count": 38,
     "metadata": {},
     "output_type": "execute_result"
    }
   ],
   "source": [
    "[(linalg.inv(R)[i] @ orth_basis_act_prl - HBB_ell_act_prl[i]).to_qutip().norm()\n",
    " for i in range(len(orth_basis_act_prl))] "
   ]
  },
  {
   "cell_type": "markdown",
   "id": "b36f1834",
   "metadata": {},
   "source": [
    "### Test 4. Here, I want to construct the Hij from previous inputs, using no parallelized function, I calculate everything by hand. First I want to prove that \n",
    "\n",
    "Hij_orth = R @ Hij_non-orth @ R.tranpose()"
   ]
  },
  {
   "cell_type": "code",
   "execution_count": 39,
   "id": "330fa36c",
   "metadata": {},
   "outputs": [],
   "source": [
    "Hij_tensor_act_non_prl, w_errors = me.fn_hij_tensor_with_errors(generator=H.to_qutip_operator(), \n",
    "                                                                basis=HBB_ell_act_non_prl,\n",
    "                                                                sp=sp_local)"
   ]
  },
  {
   "cell_type": "code",
   "execution_count": 40,
   "id": "b9d489c2",
   "metadata": {},
   "outputs": [],
   "source": [
    "Hij_tensor_act_orth_prl, w_errors = me.fn_hij_tensor_with_errors(generator=H.to_qutip_operator(), \n",
    "                                                                basis=orth_basis_act_non_prl,\n",
    "                                                                sp=sp_local)"
   ]
  },
  {
   "cell_type": "code",
   "execution_count": 41,
   "id": "2f71ffcc",
   "metadata": {},
   "outputs": [
    {
     "data": {
      "text/plain": [
       "1.9981910196139423e-13"
      ]
     },
     "execution_count": 41,
     "metadata": {},
     "output_type": "execute_result"
    }
   ],
   "source": [
    "(qutip.Qobj(R @ Hij_tensor_act_non_prl @ R.transpose()) - qutip.Qobj(Hij_tensor_act_orth_prl)).norm()"
   ]
  },
  {
   "cell_type": "code",
   "execution_count": 55,
   "id": "727bcf28",
   "metadata": {},
   "outputs": [],
   "source": [
    "eigenvalues, V = linalg.eig(Gram)"
   ]
  },
  {
   "cell_type": "code",
   "execution_count": 69,
   "id": "e191c28c",
   "metadata": {},
   "outputs": [],
   "source": [
    "eigenvalues, V = linalg.eig(Gram)\n",
    "orth_basis_try = [sum(V[j][i] * 1/np.sqrt(eigenvalues[i]) * HBB_ell_act_prl[j] for j in range(len(eigenvalues))).simplify()\n",
    "                  for i in range(len(HBB_ell_act_prl))]"
   ]
  },
  {
   "cell_type": "code",
   "execution_count": 71,
   "id": "42acee38",
   "metadata": {},
   "outputs": [],
   "source": [
    "Hij_tensor_act_try, w_errors = me.fn_hij_tensor_with_errors(generator=H.to_qutip_operator(), \n",
    "                                                                basis=orth_basis_try,\n",
    "                                                                sp=sp_local)"
   ]
  },
  {
   "cell_type": "code",
   "execution_count": 73,
   "id": "fd885117",
   "metadata": {},
   "outputs": [
    {
     "data": {
      "text/latex": [
       "Quantum object: dims=[[4], [4]], shape=(4, 4), type='oper', dtype=Dense, isherm=False$$\\left(\\begin{array}{cc}0 & 0 & -0.181 & 0.156\\\\0 & 0 & -0.272 & -1.990\\\\0.089 & 0.266 & 0 & 0\\\\-0.074 & 1.994 & 0 & 0\\end{array}\\right)$$"
      ],
      "text/plain": [
       "Quantum object: dims=[[4], [4]], shape=(4, 4), type='oper', dtype=Dense, isherm=False\n",
       "Qobj data =\n",
       "[[ 0.          0.         -0.18058227  0.15550366]\n",
       " [ 0.          0.         -0.27185495 -1.98974684]\n",
       " [ 0.08853629  0.2656585   0.          0.        ]\n",
       " [-0.07403983  1.99397614  0.          0.        ]]"
      ]
     },
     "execution_count": 73,
     "metadata": {},
     "output_type": "execute_result"
    }
   ],
   "source": [
    "qutip.Qobj(Hij_tensor_act_try)"
   ]
  },
  {
   "cell_type": "code",
   "execution_count": 75,
   "id": "2644248b",
   "metadata": {},
   "outputs": [
    {
     "data": {
      "text/latex": [
       "Quantum object: dims=[[4], [4]], shape=(4, 4), type='oper', dtype=Dense, isherm=False$$\\left(\\begin{array}{cc}0 & -0.235 & 0 & 0.009\\\\0.112 & 0 & -0.998 & 0\\\\0 & 0.991 & 0 & -1.747\\\\-3.469\\times10^{ -17 } & 0 & 1.747 & 0\\end{array}\\right)$$"
      ],
      "text/plain": [
       "Quantum object: dims=[[4], [4]], shape=(4, 4), type='oper', dtype=Dense, isherm=False\n",
       "Qobj data =\n",
       "[[ 0.00000000e+00 -2.34943394e-01  0.00000000e+00  8.96656092e-03]\n",
       " [ 1.12331302e-01  0.00000000e+00 -9.98134836e-01  0.00000000e+00]\n",
       " [ 0.00000000e+00  9.91007450e-01  0.00000000e+00 -1.74711602e+00]\n",
       " [-3.46944695e-17  0.00000000e+00  1.74669528e+00  0.00000000e+00]]"
      ]
     },
     "execution_count": 75,
     "metadata": {},
     "output_type": "execute_result"
    }
   ],
   "source": [
    "qutip.Qobj(Hij_tensor_act_orth_prl)"
   ]
  },
  {
   "cell_type": "code",
   "execution_count": null,
   "id": "c9f4cc57",
   "metadata": {},
   "outputs": [],
   "source": []
  },
  {
   "cell_type": "markdown",
   "id": "ef57d465",
   "metadata": {},
   "source": [
    "### Test 5. Now that that is clear, I want to prove that \n",
    "\n",
    "$Hij-non-orth[i][j] = Gram[i][j+1]$ and I only need to project the last column, $sp(bi, b[ell])$"
   ]
  },
  {
   "cell_type": "code",
   "execution_count": 42,
   "id": "b7f6207e",
   "metadata": {},
   "outputs": [],
   "source": [
    "n = len(HBB_ell_act_non_prl)\n",
    "Hij_tensor_recursive = np.zeros((n, n), dtype=np.complex128)\n",
    "\n",
    "# Fill all columns except the last one using j+1\n",
    "for i in range(n):\n",
    "    for j in range(n - 1):\n",
    "        Hij_tensor_recursive[i, j] = Gram[i, j+1]\n",
    "        #sp_local(HBB_ell_act_non_prl[i], HBB_ell_act_non_prl[j + 1])\n",
    "\n",
    "# Prepare args for the last column (using _hij_worker_explicit)\n",
    "args = [\n",
    "    (i, HBB_ell_act_non_prl[i], HBB_ell_act_non_prl[-1], H, sp_local, sigma0, 3)\n",
    "    for i in range(n)\n",
    "]\n",
    "\n",
    "# Call _hij_worker_explicit (returns (i, val)) and store val\n",
    "for i in range(n):\n",
    "    _, val = _hij_worker_explicit(args[i])\n",
    "    Hij_tensor_recursive[i, n - 1] = val\n"
   ]
  },
  {
   "cell_type": "code",
   "execution_count": 43,
   "id": "9afd5943",
   "metadata": {
    "scrolled": false
   },
   "outputs": [
    {
     "data": {
      "text/plain": [
       "1.9660043543699966e-14"
      ]
     },
     "execution_count": 43,
     "metadata": {},
     "output_type": "execute_result"
    }
   ],
   "source": [
    "qutip.Qobj(Hij_tensor_recursive - Hij_tensor_act_non_prl).norm()"
   ]
  },
  {
   "cell_type": "code",
   "execution_count": null,
   "id": "b67bbea5",
   "metadata": {},
   "outputs": [],
   "source": []
  },
  {
   "cell_type": "code",
   "execution_count": null,
   "id": "7c9aa310",
   "metadata": {},
   "outputs": [],
   "source": []
  },
  {
   "cell_type": "code",
   "execution_count": null,
   "id": "172a5060",
   "metadata": {},
   "outputs": [],
   "source": []
  },
  {
   "cell_type": "code",
   "execution_count": null,
   "id": "f4271200",
   "metadata": {},
   "outputs": [],
   "source": []
  },
  {
   "cell_type": "code",
   "execution_count": null,
   "id": "e485f2e0",
   "metadata": {},
   "outputs": [],
   "source": []
  },
  {
   "cell_type": "code",
   "execution_count": null,
   "id": "321d4479",
   "metadata": {},
   "outputs": [],
   "source": []
  },
  {
   "cell_type": "code",
   "execution_count": null,
   "id": "231512b7",
   "metadata": {},
   "outputs": [],
   "source": []
  },
  {
   "cell_type": "code",
   "execution_count": 60,
   "id": "37750a51",
   "metadata": {},
   "outputs": [],
   "source": [
    "import numpy as np\n",
    "from concurrent.futures import ProcessPoolExecutor\n",
    "\n",
    "def _compute_sp(args):\n",
    "    i, j, basis, sp = args\n",
    "    val = sp(basis[i], basis[j])\n",
    "    return i, j, val\n",
    "\n",
    "def cholesky_orthogonalize_basis_parallel_process(basis, sp: callable, tol=1e-10, max_workers=None):\n",
    "    \"\"\"\n",
    "    Parallel Cholesky orthogonalization using ProcessPoolExecutor.\n",
    "    \n",
    "    Args:\n",
    "        basis (List[Operator]): Input operator basis {b_i}.\n",
    "        sp (Callable): Scalar product function sp(op1, op2) -> complex.\n",
    "        tol (float): Stabilization threshold.\n",
    "        max_workers (int or None): Number of processes.\n",
    "\n",
    "    Returns:\n",
    "        orth_basis (List[Operator]): Orthonormalized basis {q_i}.\n",
    "        R (np.ndarray): Upper-triangular matrix, b_j = sum_i R[i,j] * q_i.\n",
    "        G (np.ndarray): Hermitian Gram matrix G[i,j] = sp(b_i, b_j).\n",
    "    \"\"\"\n",
    "    n = len(basis)\n",
    "    G = np.zeros((n, n), dtype=np.complex128)\n",
    "\n",
    "    # Prepare arguments for processes\n",
    "    args = [(i, j, basis, sp) for i in range(n) for j in range(i, n)]\n",
    "\n",
    "    with ProcessPoolExecutor(max_workers=max_workers) as executor:\n",
    "        results = executor.map(_compute_sp, args)\n",
    "\n",
    "    for i, j, val in results:\n",
    "        G[i, j] = val\n",
    "        if i != j:\n",
    "            G[j, i] = np.conj(val)\n",
    "\n",
    "    G = (G + G.conj().T) / 2  # Hermitize\n",
    "    G += tol * np.eye(n)      # Stabilize\n",
    "\n",
    "    try:\n",
    "        R_dag = np.linalg.cholesky(G)  # Lower-triangular\n",
    "    except np.linalg.LinAlgError:\n",
    "        raise ValueError(\"Gram matrix is not positive-definite\")\n",
    "\n",
    "    R = R_dag.conj().T  # Upper-triangular: G = R† R\n",
    "\n",
    "    R_inv = np.linalg.inv(R)\n",
    "    orth_basis = [\n",
    "        sum(R_inv[j, i] * basis[j] for j in range(n))\n",
    "        for i in range(n)\n",
    "    ]\n",
    "\n",
    "    return orth_basis, R, G\n"
   ]
  },
  {
   "cell_type": "code",
   "execution_count": 31,
   "id": "abae87ec",
   "metadata": {},
   "outputs": [],
   "source": [
    "orth_basis_cho, Rcho, Gcho = cholesky_orthogonalize_basis(basis=HBB_ell_act_non_prl, sp = sp_local)"
   ]
  },
  {
   "cell_type": "code",
   "execution_count": 49,
   "id": "d04b4f48",
   "metadata": {},
   "outputs": [
    {
     "data": {
      "text/plain": [
       "[0.0, 0.0, 1.805328789133384e-15]"
      ]
     },
     "execution_count": 49,
     "metadata": {},
     "output_type": "execute_result"
    }
   ],
   "source": [
    "diffs = [\n",
    "    (sum(orth_basis_cho[j] * Rcho[j, i]  for j in range(len(orth_basis_cho))) - HBB_ell_act_non_prl[i]).to_qutip().norm()\n",
    "    for i in range(len(orth_basis_cho))\n",
    "]\n",
    "\n",
    "diffs"
   ]
  },
  {
   "cell_type": "code",
   "execution_count": 50,
   "id": "d0256ae3",
   "metadata": {},
   "outputs": [
    {
     "data": {
      "text/plain": [
       "array([[ 0.        +0.j, -0.16481177+0.j,  0.        +0.j],\n",
       "       [ 0.16481177+0.j,  0.        +0.j, -0.93419174+0.j],\n",
       "       [ 0.        +0.j,  0.93419174+0.j,  0.        +0.j]])"
      ]
     },
     "execution_count": 50,
     "metadata": {},
     "output_type": "execute_result"
    }
   ],
   "source": [
    "Hij_tensor_act_orth_prl"
   ]
  },
  {
   "cell_type": "code",
   "execution_count": null,
   "id": "0bc48b29",
   "metadata": {},
   "outputs": [],
   "source": []
  },
  {
   "cell_type": "code",
   "execution_count": null,
   "id": "bd7bc97e",
   "metadata": {},
   "outputs": [],
   "source": []
  }
 ],
 "metadata": {
  "kernelspec": {
   "display_name": "Python (base)",
   "language": "python",
   "name": "base"
  },
  "language_info": {
   "codemirror_mode": {
    "name": "ipython",
    "version": 3
   },
   "file_extension": ".py",
   "mimetype": "text/x-python",
   "name": "python",
   "nbconvert_exporter": "python",
   "pygments_lexer": "ipython3",
   "version": "3.12.9"
  }
 },
 "nbformat": 4,
 "nbformat_minor": 5
}
