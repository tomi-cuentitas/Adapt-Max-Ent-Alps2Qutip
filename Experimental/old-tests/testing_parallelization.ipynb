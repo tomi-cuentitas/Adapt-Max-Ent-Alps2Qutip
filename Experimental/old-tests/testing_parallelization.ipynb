{
 "cells": [
  {
   "cell_type": "code",
   "execution_count": 1,
   "id": "240d536a",
   "metadata": {},
   "outputs": [],
   "source": [
    "import sys\n",
    "path='/home/tomas/Ulmer-Berechnung/alps2qutipplus-april/alps2qutipplus-main/'\n",
    "\n",
    "sys.path.insert(1, path) "
   ]
  },
  {
   "cell_type": "code",
   "execution_count": 3,
   "id": "e4275657",
   "metadata": {
    "scrolled": false
   },
   "outputs": [],
   "source": [
    "import numpy as np\n",
    "import matplotlib.pyplot as plt\n",
    "import qutip as qutip\n",
    "import scipy.linalg as linalg\n",
    "import time\n",
    "from multiprocessing import Pool\n",
    "from itertools import product\n",
    "from typing import Optional\n",
    "\n",
    "import alpsqutip.parallelized_functions_and_workers as plME\n",
    "\n",
    "from alpsqutip import (build_system, list_models_in_alps_xml,\n",
    "                       list_geometries_in_alps_xml, graph_from_alps_xml,\n",
    "                       model_from_alps_xml,\n",
    "                       restricted_maxent_toolkit as me)\n",
    "\n",
    "from alpsqutip.operators.states.utils import safe_exp_and_normalize ## function used to safely and robustly map K-states to states\n",
    "\n",
    "from alpsqutip.scalarprod import fetch_covar_scalar_product\n",
    "from alpsqutip.operators.states.gibbs import GibbsDensityOperator, GibbsProductDensityOperator, ProductDensityOperator"
   ]
  },
  {
   "cell_type": "code",
   "execution_count": 4,
   "id": "a269af94",
   "metadata": {},
   "outputs": [],
   "source": [
    "\n",
    "from alpsqutip.operators.arithmetic import (\n",
    "    ScalarOperator,\n",
    "    LocalOperator,\n",
    "    OneBodyOperator,\n",
    "    Operator,\n",
    "    ProductOperator,\n",
    "    ScalarOperator,\n",
    "    SumOperator,\n",
    "    QutipOperator\n",
    ")\n",
    "\n",
    "from alpsqutip.operators.simplify import simplify_sum_operator\n",
    "import alpsqutip.optimized_projections as optj"
   ]
  },
  {
   "cell_type": "code",
   "execution_count": 5,
   "id": "0b0d2c9d",
   "metadata": {},
   "outputs": [],
   "source": [
    "\n",
    "from alpsqutip.operators.states.meanfield.projections import (one_body_from_qutip_operator, \n",
    "                                                  project_operator_to_m_body, \n",
    "                                                             project_qutip_operator_to_m_body,\n",
    "                                                             project_to_n_body_operator,\n",
    "                                                             project_qutip_operator_as_n_body_operator)"
   ]
  },
  {
   "cell_type": "code",
   "execution_count": 6,
   "id": "981e1689",
   "metadata": {},
   "outputs": [],
   "source": [
    "params={}\n",
    "\n",
    "params['size']=7\n",
    "params['Jx']=1.; params['Jy'] = .75*params['Jx']; params['Jz']=1.05*params['Jx']\n",
    "\n",
    "from scipy.optimize import root, fsolve\n",
    "Ffactor=np.real(max(np.roots(np.poly1d([1, 0, -(params['Jx']*params['Jy']+params['Jx']*params['Jy']+params['Jy']*params['Jz']), \n",
    "                           -2*params['Jx']*params['Jy']*params['Jz']]))))\n",
    "chi_y=fsolve(lambda x,y: x*np.arcsinh(x)-np.sqrt(x**2+1)-y, 1e-1, args=(0))[0]\n",
    "vLR=4*Ffactor*chi_y\n",
    "\n"
   ]
  },
  {
   "cell_type": "code",
   "execution_count": 7,
   "id": "a2946005",
   "metadata": {
    "scrolled": false
   },
   "outputs": [
    {
     "name": "stdout",
     "output_type": "stream",
     "text": [
      "loading model spin  over graph open chain lattice\n"
     ]
    }
   ],
   "source": [
    "system=build_system(geometry_name= \"open chain lattice\",model_name=\"spin\", \n",
    "                    L=params['size'], J=1)\n",
    "\n",
    "sites=[s for s in system.sites]\n",
    "sx_ops=[system.site_operator(\"Sx\", '1[' + str(a) + ']') for a in range(len(system.sites))]\n",
    "sy_ops=[system.site_operator(\"Sy\", '1[' + str(a) + ']') for a in range(len(system.sites))]\n",
    "sz_ops=[system.site_operator(\"Sz\", '1[' + str(a) + ']') for a in range(len(system.sites))]\n",
    "\n",
    "idop = [system.site_operator('identity@1[' + str(a) + ']') for a in range(len(system.sites))]\n",
    "from functools import reduce\n",
    "idop = reduce(Operator.__mul__, idop)\n",
    "\n",
    "#Iz = sum(sz_ops)\n",
    "H_nn = 0  # Proches voisins\n",
    "H_lr = 0  # Longue portée\n",
    "\n",
    "from itertools import combinations\n",
    "\n",
    "for i, j in combinations(range(params['size']), 2):\n",
    "    r = abs(i - j)\n",
    "    Jx_ij = params['Jx'] / r**3\n",
    "    Jy_ij = params['Jy'] / r**3\n",
    "    Jz_ij = params['Jz'] / r**3\n",
    "\n",
    "    term = (\n",
    "        Jx_ij * sx_ops[i] * sx_ops[j]\n",
    "        + Jy_ij * sy_ops[i] * sy_ops[j]\n",
    "        + Jz_ij * sz_ops[i] * sz_ops[j]\n",
    "    )\n",
    "\n",
    "    if r == 1:\n",
    "        H_nn += term  # Interaction de voisins immédiats\n",
    "    else:\n",
    "        H_lr += term  # Interaction à longue portée\n",
    "        \n",
    "H = H_nn + H_lr\n",
    "H = H.simplify()"
   ]
  },
  {
   "cell_type": "code",
   "execution_count": 10,
   "id": "2e74768c",
   "metadata": {},
   "outputs": [
    {
     "data": {
      "text/latex": [
       "$\\left(\\begin{array}{cc}0 & 0.500\\\\0.500 & 0\\end{array}\\right)_{1[0]}$"
      ],
      "text/plain": [
       "Local Operator on site 1[0]:\n",
       " array([[0. +0.j, 0.5+0.j],\n",
       "       [0.5+0.j, 0. +0.j]])"
      ]
     },
     "execution_count": 10,
     "metadata": {},
     "output_type": "execute_result"
    }
   ],
   "source": [
    "system.site_operator(\"Sx@1[0]\")"
   ]
  },
  {
   "cell_type": "code",
   "execution_count": 7,
   "id": "0f9e99a0",
   "metadata": {
    "scrolled": true
   },
   "outputs": [
    {
     "data": {
      "text/plain": [
       "0.8986549927510027"
      ]
     },
     "execution_count": 7,
     "metadata": {},
     "output_type": "execute_result"
    }
   ],
   "source": [
    "z = np.random.rand()\n",
    "z"
   ]
  },
  {
   "cell_type": "code",
   "execution_count": 8,
   "id": "508c6548",
   "metadata": {},
   "outputs": [
    {
     "data": {
      "text/plain": [
       "[0.1406847464129125,\n",
       " 0.294480147312477,\n",
       " 0.2629097140397764,\n",
       " 0.2976297104497851,\n",
       " 0.2182377306749854,\n",
       " 0.30665515113646225,\n",
       " 0.2560732276764282]"
      ]
     },
     "execution_count": 8,
     "metadata": {},
     "output_type": "execute_result"
    }
   ],
   "source": [
    "\n",
    "\n",
    "obs_SzA = sum(sz for sz in sz_ops)\n",
    "HBB0=[idop]+[sz for sz in sz_ops]\n",
    "\n",
    "phi0 = np.array([.0] + [-1.5+np.random.rand() for _ in HBB0[1:]])\n",
    "\n",
    "K0 = me.k_state_from_phi_basis(phi0, HBB0).simplify()\n",
    "sigma0 = GibbsProductDensityOperator(K0)\n",
    "phi0[0] = np.log(sigma0.tr())\n",
    "K0 = me.k_state_from_phi_basis(phi0, HBB0).simplify()\n",
    "sigma0 = GibbsProductDensityOperator(K0)\n",
    "\n",
    "tgt_obs = obs_SzA\n",
    "[(sigma0 * op).tr().real for op in sz_ops] "
   ]
  },
  {
   "cell_type": "code",
   "execution_count": 9,
   "id": "f14b7bf7",
   "metadata": {},
   "outputs": [],
   "source": [
    "simulations={}\n",
    "tgt_obs = obs_SzA\n",
    "sp_local = fetch_covar_scalar_product(sigma0)\n",
    "\n",
    "from scipy.linalg import cho_solve, cho_factor\n",
    "       \n",
    "simulations[1] = {\n",
    "    \"parms\":{\n",
    "    \"chosen_depth\": 4,\n",
    "    \"m0\": 5,\n",
    "    \"eps\": 1e-3,\n",
    "    },\n",
    "  \"saved_cut_times_index_ell\":[0],\n",
    "   \"no_acts_ell\" : [0],\n",
    "    \"local_bound_error_ell\":[],\n",
    "    \"spectral_norm_Hij_tensor_ell\":[],\n",
    "    \"instantaneous_w_errors\":[],\n",
    "} \n",
    "\n",
    "current_simulation = simulations[1]\n",
    "current_simulation_parms = current_simulation[\"parms\"]\n",
    "chosen_depth = current_simulation_parms[\"chosen_depth\"]\n",
    "eps_tol = current_simulation_parms[\"eps\"]\n",
    "m0 = current_simulation_parms[\"m0\"]"
   ]
  },
  {
   "cell_type": "code",
   "execution_count": 11,
   "id": "20122001",
   "metadata": {
    "scrolled": true
   },
   "outputs": [],
   "source": [
    "tgt_obs = sum(np.random.rand() * op for op in HBB_ell_act).simplify()"
   ]
  },
  {
   "cell_type": "code",
   "execution_count": 12,
   "id": "fd284fee",
   "metadata": {
    "scrolled": true
   },
   "outputs": [
    {
     "ename": "AssertionError",
     "evalue": "",
     "output_type": "error",
     "traceback": [
      "\u001b[0;31m---------------------------------------------------------------------------\u001b[0m",
      "\u001b[0;31m_RemoteTraceback\u001b[0m                          Traceback (most recent call last)",
      "\u001b[0;31m_RemoteTraceback\u001b[0m: \n\"\"\"\nTraceback (most recent call last):\n  File \"/home/tomas/miniconda3/lib/python3.12/concurrent/futures/process.py\", line 264, in _process_worker\n    r = call_item.fn(*call_item.args, **call_item.kwargs)\n        ^^^^^^^^^^^^^^^^^^^^^^^^^^^^^^^^^^^^^^^^^^^^^^^^^\n  File \"/home/tomas/miniconda3/lib/python3.12/concurrent/futures/process.py\", line 213, in _process_chunk\n    return [fn(*args) for args in chunk]\n            ^^^^^^^^^\n  File \"/home/tomas/Ulmer-Berechnung/alps2qutipplus-april/alps2qutipplus-main/alpsqutip/parallelized_functions_and_workers.py\", line 38, in _projection_worker\n    return opt_project_to_n_body_operator(\n           ^^^^^^^^^^^^^^^^^^^^^^^^^^^^^^^\n  File \"/home/tomas/Ulmer-Berechnung/alps2qutipplus-april/alps2qutipplus-main/alpsqutip/optimized_projections.py\", line 244, in opt_project_to_n_body_operator\n    projected = project_fn(term, nmax, sigma)\n                ^^^^^^^^^^^^^^^^^^^^^^^^^^^^^\n  File \"/home/tomas/Ulmer-Berechnung/alps2qutipplus-april/alps2qutipplus-main/alpsqutip/optimized_projections.py\", line 170, in opt_project_qutip_operator_as_n_body_operator\n    sigma_block = get_sigma_marginal(support)\n                  ^^^^^^^^^^^^^^^^^^^^^^^^^^^\n  File \"/home/tomas/Ulmer-Berechnung/alps2qutipplus-april/alps2qutipplus-main/alpsqutip/optimized_projections.py\", line 143, in get_sigma_marginal\n    _sigma_cache[key] = sigma.partial_trace(sites_to_trace_out)\n                        ^^^^^^^^^^^^^^^^^^^^^^^^^^^^^^^^^^^^^^^\n  File \"/home/tomas/Ulmer-Berechnung/alps2qutipplus-april/alps2qutipplus-main/alpsqutip/operators/states/gibbs.py\", line 268, in partial_trace\n    subsystem = self.system.subsystem(sites)\n                ^^^^^^^^^^^^^^^^^^^^^^^^^^^^\n  File \"/home/tomas/Ulmer-Berechnung/alps2qutipplus-april/alps2qutipplus-main/alpsqutip/model.py\", line 84, in subsystem\n    assert isinstance(sites, frozenset)\n           ^^^^^^^^^^^^^^^^^^^^^^^^^^^^\nAssertionError\n\"\"\"",
      "\nThe above exception was the direct cause of the following exception:\n",
      "\u001b[0;31mAssertionError\u001b[0m                            Traceback (most recent call last)",
      "Cell \u001b[0;32mIn[12], line 2\u001b[0m\n\u001b[1;32m      1\u001b[0m start \u001b[38;5;241m=\u001b[39m time\u001b[38;5;241m.\u001b[39mtime()\n\u001b[0;32m----> 2\u001b[0m HBB_ell_act \u001b[38;5;241m=\u001b[39m plME\u001b[38;5;241m.\u001b[39mparallelized_real_time_projection_of_hierarchical_basis(\n\u001b[1;32m      3\u001b[0m     generator\u001b[38;5;241m=\u001b[39mH,\n\u001b[1;32m      4\u001b[0m     seed_op\u001b[38;5;241m=\u001b[39mtgt_obs,\n\u001b[1;32m      5\u001b[0m     sigma_ref\u001b[38;5;241m=\u001b[39msigma0,\n\u001b[1;32m      6\u001b[0m     m_max\u001b[38;5;241m=\u001b[39mm0,\n\u001b[1;32m      7\u001b[0m     deep\u001b[38;5;241m=\u001b[39mchosen_depth,\n\u001b[1;32m      8\u001b[0m     num_workers\u001b[38;5;241m=\u001b[39m\u001b[38;5;241m10\u001b[39m,\n\u001b[1;32m      9\u001b[0m     chunksize\u001b[38;5;241m=\u001b[39m\u001b[38;5;241m32\u001b[39m\n\u001b[1;32m     10\u001b[0m )\n\u001b[1;32m     11\u001b[0m time\u001b[38;5;241m.\u001b[39mtime() \u001b[38;5;241m-\u001b[39m start\n",
      "File \u001b[0;32m~/Ulmer-Berechnung/alps2qutipplus-april/alps2qutipplus-main/alpsqutip/parallelized_functions_and_workers.py:123\u001b[0m, in \u001b[0;36mparallelized_real_time_projection_of_hierarchical_basis\u001b[0;34m(generator, seed_op, sigma_ref, m_max, deep, num_workers, chunksize, tidy_thresh)\u001b[0m\n\u001b[1;32m    120\u001b[0m projection_args \u001b[38;5;241m=\u001b[39m [(term, m_max, sigma_ref) \u001b[38;5;28;01mfor\u001b[39;00m term \u001b[38;5;129;01min\u001b[39;00m merged_terms]\n\u001b[1;32m    122\u001b[0m \u001b[38;5;28;01mwith\u001b[39;00m ProcessPoolExecutor(max_workers\u001b[38;5;241m=\u001b[39mnum_workers) \u001b[38;5;28;01mas\u001b[39;00m executor:\n\u001b[0;32m--> 123\u001b[0m     projected_terms \u001b[38;5;241m=\u001b[39m \u001b[38;5;28mlist\u001b[39m(executor\u001b[38;5;241m.\u001b[39mmap(_projection_worker,\n\u001b[1;32m    124\u001b[0m                                         projection_args, chunksize\u001b[38;5;241m=\u001b[39mchunksize))\n\u001b[1;32m    126\u001b[0m merged_terms \u001b[38;5;241m=\u001b[39m commutator_terms \u001b[38;5;241m=\u001b[39m \u001b[38;5;28;01mNone\u001b[39;00m\n\u001b[1;32m    127\u001b[0m local_op \u001b[38;5;241m=\u001b[39m \u001b[38;5;28msum\u001b[39m(projected_terms, ScalarOperator(\u001b[38;5;241m0\u001b[39m, system\u001b[38;5;241m=\u001b[39msystem))\n",
      "File \u001b[0;32m~/miniconda3/lib/python3.12/concurrent/futures/process.py:636\u001b[0m, in \u001b[0;36m_chain_from_iterable_of_lists\u001b[0;34m(iterable)\u001b[0m\n\u001b[1;32m    630\u001b[0m \u001b[38;5;28;01mdef\u001b[39;00m \u001b[38;5;21m_chain_from_iterable_of_lists\u001b[39m(iterable):\n\u001b[1;32m    631\u001b[0m \u001b[38;5;250m    \u001b[39m\u001b[38;5;124;03m\"\"\"\u001b[39;00m\n\u001b[1;32m    632\u001b[0m \u001b[38;5;124;03m    Specialized implementation of itertools.chain.from_iterable.\u001b[39;00m\n\u001b[1;32m    633\u001b[0m \u001b[38;5;124;03m    Each item in *iterable* should be a list.  This function is\u001b[39;00m\n\u001b[1;32m    634\u001b[0m \u001b[38;5;124;03m    careful not to keep references to yielded objects.\u001b[39;00m\n\u001b[1;32m    635\u001b[0m \u001b[38;5;124;03m    \"\"\"\u001b[39;00m\n\u001b[0;32m--> 636\u001b[0m     \u001b[38;5;28;01mfor\u001b[39;00m element \u001b[38;5;129;01min\u001b[39;00m iterable:\n\u001b[1;32m    637\u001b[0m         element\u001b[38;5;241m.\u001b[39mreverse()\n\u001b[1;32m    638\u001b[0m         \u001b[38;5;28;01mwhile\u001b[39;00m element:\n",
      "File \u001b[0;32m~/miniconda3/lib/python3.12/concurrent/futures/_base.py:619\u001b[0m, in \u001b[0;36mExecutor.map.<locals>.result_iterator\u001b[0;34m()\u001b[0m\n\u001b[1;32m    616\u001b[0m \u001b[38;5;28;01mwhile\u001b[39;00m fs:\n\u001b[1;32m    617\u001b[0m     \u001b[38;5;66;03m# Careful not to keep a reference to the popped future\u001b[39;00m\n\u001b[1;32m    618\u001b[0m     \u001b[38;5;28;01mif\u001b[39;00m timeout \u001b[38;5;129;01mis\u001b[39;00m \u001b[38;5;28;01mNone\u001b[39;00m:\n\u001b[0;32m--> 619\u001b[0m         \u001b[38;5;28;01myield\u001b[39;00m _result_or_cancel(fs\u001b[38;5;241m.\u001b[39mpop())\n\u001b[1;32m    620\u001b[0m     \u001b[38;5;28;01melse\u001b[39;00m:\n\u001b[1;32m    621\u001b[0m         \u001b[38;5;28;01myield\u001b[39;00m _result_or_cancel(fs\u001b[38;5;241m.\u001b[39mpop(), end_time \u001b[38;5;241m-\u001b[39m time\u001b[38;5;241m.\u001b[39mmonotonic())\n",
      "File \u001b[0;32m~/miniconda3/lib/python3.12/concurrent/futures/_base.py:317\u001b[0m, in \u001b[0;36m_result_or_cancel\u001b[0;34m(***failed resolving arguments***)\u001b[0m\n\u001b[1;32m    315\u001b[0m \u001b[38;5;28;01mtry\u001b[39;00m:\n\u001b[1;32m    316\u001b[0m     \u001b[38;5;28;01mtry\u001b[39;00m:\n\u001b[0;32m--> 317\u001b[0m         \u001b[38;5;28;01mreturn\u001b[39;00m fut\u001b[38;5;241m.\u001b[39mresult(timeout)\n\u001b[1;32m    318\u001b[0m     \u001b[38;5;28;01mfinally\u001b[39;00m:\n\u001b[1;32m    319\u001b[0m         fut\u001b[38;5;241m.\u001b[39mcancel()\n",
      "File \u001b[0;32m~/miniconda3/lib/python3.12/concurrent/futures/_base.py:456\u001b[0m, in \u001b[0;36mFuture.result\u001b[0;34m(self, timeout)\u001b[0m\n\u001b[1;32m    454\u001b[0m     \u001b[38;5;28;01mraise\u001b[39;00m CancelledError()\n\u001b[1;32m    455\u001b[0m \u001b[38;5;28;01melif\u001b[39;00m \u001b[38;5;28mself\u001b[39m\u001b[38;5;241m.\u001b[39m_state \u001b[38;5;241m==\u001b[39m FINISHED:\n\u001b[0;32m--> 456\u001b[0m     \u001b[38;5;28;01mreturn\u001b[39;00m \u001b[38;5;28mself\u001b[39m\u001b[38;5;241m.\u001b[39m__get_result()\n\u001b[1;32m    457\u001b[0m \u001b[38;5;28;01melse\u001b[39;00m:\n\u001b[1;32m    458\u001b[0m     \u001b[38;5;28;01mraise\u001b[39;00m \u001b[38;5;167;01mTimeoutError\u001b[39;00m()\n",
      "File \u001b[0;32m~/miniconda3/lib/python3.12/concurrent/futures/_base.py:401\u001b[0m, in \u001b[0;36mFuture.__get_result\u001b[0;34m(self)\u001b[0m\n\u001b[1;32m    399\u001b[0m \u001b[38;5;28;01mif\u001b[39;00m \u001b[38;5;28mself\u001b[39m\u001b[38;5;241m.\u001b[39m_exception:\n\u001b[1;32m    400\u001b[0m     \u001b[38;5;28;01mtry\u001b[39;00m:\n\u001b[0;32m--> 401\u001b[0m         \u001b[38;5;28;01mraise\u001b[39;00m \u001b[38;5;28mself\u001b[39m\u001b[38;5;241m.\u001b[39m_exception\n\u001b[1;32m    402\u001b[0m     \u001b[38;5;28;01mfinally\u001b[39;00m:\n\u001b[1;32m    403\u001b[0m         \u001b[38;5;66;03m# Break a reference cycle with the exception in self._exception\u001b[39;00m\n\u001b[1;32m    404\u001b[0m         \u001b[38;5;28mself\u001b[39m \u001b[38;5;241m=\u001b[39m \u001b[38;5;28;01mNone\u001b[39;00m\n",
      "\u001b[0;31mAssertionError\u001b[0m: "
     ]
    }
   ],
   "source": [
    "start = time.time()\n",
    "HBB_ell_act = plME.parallelized_real_time_projection_of_hierarchical_basis(\n",
    "    generator=H,\n",
    "    seed_op=tgt_obs,\n",
    "    sigma_ref=sigma0,\n",
    "    m_max=m0,\n",
    "    deep=chosen_depth,\n",
    "    num_workers=10,\n",
    "    chunksize=32\n",
    ")\n",
    "time.time() - start"
   ]
  },
  {
   "cell_type": "code",
   "execution_count": null,
   "id": "88449f3b",
   "metadata": {},
   "outputs": [],
   "source": [
    "start = time.time()\n",
    "Gram_matrix_act = plME.parallel_gram_matrix_process(basis = HBB_ell_act, \n",
    "                                           sp = sp_local,\n",
    "                                           num_workers=10,\n",
    "                                            chunksize =32)\n",
    "\n",
    "time.time() - start"
   ]
  },
  {
   "cell_type": "code",
   "execution_count": null,
   "id": "021ce0e3",
   "metadata": {},
   "outputs": [],
   "source": [
    "start = time.time()\n",
    "Hij_tensor_act_non_orth = plME.compute_Hij_tensor_non_orth(\n",
    "    basis = HBB_ell_act, \n",
    "    generator = H, \n",
    "    sp = sp_local,\n",
    "    sigma_ref = sigma0,\n",
    "    m_max = m0,\n",
    "    Gram = Gram_matrix_act,\n",
    "            num_workers=10,\n",
    "    chunksize = 50\n",
    ")\n",
    "\n",
    "time.time() - start"
   ]
  },
  {
   "cell_type": "code",
   "execution_count": null,
   "id": "90a04f57",
   "metadata": {},
   "outputs": [],
   "source": []
  },
  {
   "cell_type": "code",
   "execution_count": null,
   "id": "e1f551a8",
   "metadata": {},
   "outputs": [],
   "source": []
  },
  {
   "cell_type": "code",
   "execution_count": null,
   "id": "419caecf",
   "metadata": {},
   "outputs": [],
   "source": []
  },
  {
   "cell_type": "code",
   "execution_count": null,
   "id": "52d60828",
   "metadata": {},
   "outputs": [],
   "source": []
  },
  {
   "cell_type": "code",
   "execution_count": 13,
   "id": "45adebe6",
   "metadata": {},
   "outputs": [
    {
     "data": {
      "text/latex": [
       "$\\left(\\begin{array}{cc}0.263 & 0 & 0 & 0.062\\\\0 & -0.263 & 0.438 & 0\\\\0 & 0.438 & -0.263 & 0\\\\0.062 & 0 & 0 & 0.263\\end{array}\\right)_{1[0],1[1]}$"
      ],
      "text/plain": [
       "qutip interface operator for 1 x  \n",
       "Quantum object: dims=[[2, 2], [2, 2]], shape=(4, 4), type='oper', dtype=CSR, isherm=True\n",
       "Qobj data =\n",
       "[[ 0.2625  0.      0.      0.0625]\n",
       " [ 0.     -0.2625  0.4375  0.    ]\n",
       " [ 0.      0.4375 -0.2625  0.    ]\n",
       " [ 0.0625  0.      0.      0.2625]]"
      ]
     },
     "execution_count": 13,
     "metadata": {},
     "output_type": "execute_result"
    }
   ],
   "source": [
    "H.terms[0]"
   ]
  },
  {
   "cell_type": "code",
   "execution_count": 10,
   "id": "ba1f09cf",
   "metadata": {},
   "outputs": [],
   "source": [
    "tgt_obs = H_lr\n",
    "\n",
    "tgt_obs += 1j*me.commutator(H_nn, tgt_obs).simplify()\n",
    "tgt_obs += 1j*me.commutator(H_nn, tgt_obs).simplify()\n",
    "tgt_obs += 1j*me.commutator(H_nn, tgt_obs).simplify()\n",
    "tgt_obs += 1j*me.commutator(H_nn, tgt_obs).simplify()\n",
    "tgt_obs += 1j*me.commutator(H_nn, tgt_obs).simplify()\n",
    "tgt_obs += 1j*me.commutator(H_nn, tgt_obs).simplify()"
   ]
  },
  {
   "cell_type": "code",
   "execution_count": null,
   "id": "b36167a5",
   "metadata": {},
   "outputs": [],
   "source": []
  },
  {
   "cell_type": "code",
   "execution_count": null,
   "id": "d2dfbc0e",
   "metadata": {},
   "outputs": [],
   "source": []
  },
  {
   "cell_type": "code",
   "execution_count": 26,
   "id": "00c9d5cd",
   "metadata": {},
   "outputs": [
    {
     "data": {
      "text/plain": [
       "31.983923196792603"
      ]
     },
     "execution_count": 26,
     "metadata": {},
     "output_type": "execute_result"
    }
   ],
   "source": [
    "start = time.time()\n",
    "\n",
    "v1=project_to_n_body_operator(operator = tgt_obs,\n",
    "                           nmax = 4, \n",
    "                           sigma=sigma0)\n",
    "\n",
    "time.time()-start"
   ]
  },
  {
   "cell_type": "code",
   "execution_count": 38,
   "id": "f23ab57b",
   "metadata": {},
   "outputs": [
    {
     "data": {
      "text/plain": [
       "22.412374258041382"
      ]
     },
     "execution_count": 38,
     "metadata": {},
     "output_type": "execute_result"
    }
   ],
   "source": [
    "start = time.time()\n",
    "\n",
    "v2=optj.opt_project_to_n_body_operator(operator = tgt_obs,\n",
    "                           nmax = 4, \n",
    "                           sigma=sigma0)\n",
    "\n",
    "time.time()-start"
   ]
  },
  {
   "cell_type": "code",
   "execution_count": null,
   "id": "5d720484",
   "metadata": {},
   "outputs": [],
   "source": []
  },
  {
   "cell_type": "code",
   "execution_count": null,
   "id": "fe77e3bd",
   "metadata": {},
   "outputs": [],
   "source": []
  },
  {
   "cell_type": "code",
   "execution_count": null,
   "id": "27efd337",
   "metadata": {},
   "outputs": [],
   "source": []
  },
  {
   "cell_type": "code",
   "execution_count": 11,
   "id": "8f389371",
   "metadata": {},
   "outputs": [
    {
     "data": {
      "text/plain": [
       "31.69008779525757"
      ]
     },
     "execution_count": 11,
     "metadata": {},
     "output_type": "execute_result"
    }
   ],
   "source": [
    "start = time.time()\n",
    "\n",
    "v1=project_to_n_body_operator(operator = tgt_obs,\n",
    "                           nmax = 4, \n",
    "                           sigma=sigma0)\n",
    "\n",
    "time.time()-start"
   ]
  },
  {
   "cell_type": "code",
   "execution_count": 12,
   "id": "e7453744",
   "metadata": {},
   "outputs": [
    {
     "data": {
      "text/plain": [
       "19.268605709075928"
      ]
     },
     "execution_count": 12,
     "metadata": {},
     "output_type": "execute_result"
    }
   ],
   "source": [
    "start = time.time()\n",
    "\n",
    "v2=optj.opt_project_to_n_body_operator(operator = tgt_obs,\n",
    "                           nmax = 4, \n",
    "                           sigma=sigma0)\n",
    "\n",
    "time.time()-start"
   ]
  },
  {
   "cell_type": "code",
   "execution_count": 13,
   "id": "6f710980",
   "metadata": {},
   "outputs": [
    {
     "data": {
      "text/plain": [
       "0.0"
      ]
     },
     "execution_count": 13,
     "metadata": {},
     "output_type": "execute_result"
    }
   ],
   "source": [
    "(v1-v2).simplify().to_qutip().norm()"
   ]
  },
  {
   "cell_type": "code",
   "execution_count": 14,
   "id": "4b055301",
   "metadata": {},
   "outputs": [
    {
     "data": {
      "text/plain": [
       "25.450095891952515"
      ]
     },
     "execution_count": 14,
     "metadata": {},
     "output_type": "execute_result"
    }
   ],
   "source": [
    "start = time.time()\n",
    "\n",
    "v1=project_to_n_body_operator(operator = tgt_obs,\n",
    "                           nmax = 3, \n",
    "                           sigma=sigma0)\n",
    "\n",
    "time.time()-start"
   ]
  },
  {
   "cell_type": "code",
   "execution_count": 16,
   "id": "c528203c",
   "metadata": {},
   "outputs": [
    {
     "data": {
      "text/plain": [
       "22.13984251022339"
      ]
     },
     "execution_count": 16,
     "metadata": {},
     "output_type": "execute_result"
    }
   ],
   "source": [
    "start = time.time()\n",
    "\n",
    "v2=optj.opt_project_to_n_body_operator(operator = tgt_obs,\n",
    "                           nmax = 3, \n",
    "                           sigma=sigma0)\n",
    "\n",
    "time.time()-start"
   ]
  },
  {
   "cell_type": "markdown",
   "id": "6eb0ea6a",
   "metadata": {},
   "source": [
    "### N=10 spin system: "
   ]
  },
  {
   "cell_type": "code",
   "execution_count": 53,
   "id": "54f1e374",
   "metadata": {},
   "outputs": [
    {
     "data": {
      "text/plain": [
       "287.348082780838"
      ]
     },
     "execution_count": 53,
     "metadata": {},
     "output_type": "execute_result"
    }
   ],
   "source": [
    "start = time.time()\n",
    "\n",
    "v1=project_to_n_body_operator(operator = tgt_obs,\n",
    "                           nmax = 4, \n",
    "                           sigma=sigma0)\n",
    "\n",
    "time.time()-start"
   ]
  },
  {
   "cell_type": "code",
   "execution_count": 52,
   "id": "c50f7699",
   "metadata": {},
   "outputs": [
    {
     "data": {
      "text/plain": [
       "168.23488759994507"
      ]
     },
     "execution_count": 52,
     "metadata": {},
     "output_type": "execute_result"
    }
   ],
   "source": [
    "start = time.time()\n",
    "\n",
    "v2=opt_project_to_n_body_operator(operator = tgt_obs,\n",
    "                           nmax = 4, \n",
    "                           sigma=sigma0)\n",
    "\n",
    "time.time()-start"
   ]
  },
  {
   "cell_type": "code",
   "execution_count": 56,
   "id": "16cae526",
   "metadata": {},
   "outputs": [
    {
     "data": {
      "text/plain": [
       "118.26253461837769"
      ]
     },
     "execution_count": 56,
     "metadata": {},
     "output_type": "execute_result"
    }
   ],
   "source": [
    "start = time.time()\n",
    "\n",
    "v2=opt_project_to_n_body_operator(operator = tgt_obs,\n",
    "                           nmax = 6, \n",
    "                           sigma=sigma0)\n",
    "\n",
    "time.time()-start"
   ]
  },
  {
   "cell_type": "code",
   "execution_count": null,
   "id": "23fdbfeb",
   "metadata": {},
   "outputs": [],
   "source": [
    "start = time.time()\n",
    "\n",
    "v2=opt_project_to_n_body_operator(operator = tgt_obs,\n",
    "                           nmax = 6, \n",
    "                           sigma=sigma0)\n",
    "\n",
    "time.time()-start"
   ]
  },
  {
   "cell_type": "code",
   "execution_count": 59,
   "id": "7a3243f5",
   "metadata": {},
   "outputs": [
    {
     "data": {
      "text/plain": [
       "0.28815261044176704"
      ]
     },
     "execution_count": 59,
     "metadata": {},
     "output_type": "execute_result"
    }
   ],
   "source": [
    "287/996"
   ]
  },
  {
   "cell_type": "code",
   "execution_count": 61,
   "id": "98bec237",
   "metadata": {},
   "outputs": [
    {
     "data": {
      "text/plain": [
       "0.1686746987951807"
      ]
     },
     "execution_count": 61,
     "metadata": {},
     "output_type": "execute_result"
    }
   ],
   "source": [
    "168/996"
   ]
  },
  {
   "cell_type": "code",
   "execution_count": 55,
   "id": "270496ea",
   "metadata": {},
   "outputs": [
    {
     "data": {
      "text/plain": [
       "0.0"
      ]
     },
     "execution_count": 55,
     "metadata": {},
     "output_type": "execute_result"
    }
   ],
   "source": [
    "(v1-v2).simplify().to_qutip().norm()"
   ]
  },
  {
   "cell_type": "code",
   "execution_count": 54,
   "id": "836ee730",
   "metadata": {},
   "outputs": [
    {
     "data": {
      "text/plain": [
       "967"
      ]
     },
     "execution_count": 54,
     "metadata": {},
     "output_type": "execute_result"
    }
   ],
   "source": [
    "len(tgt_obs.terms)"
   ]
  }
 ],
 "metadata": {
  "kernelspec": {
   "display_name": "Python (base)",
   "language": "python",
   "name": "base"
  },
  "language_info": {
   "codemirror_mode": {
    "name": "ipython",
    "version": 3
   },
   "file_extension": ".py",
   "mimetype": "text/x-python",
   "name": "python",
   "nbconvert_exporter": "python",
   "pygments_lexer": "ipython3",
   "version": "3.12.9"
  }
 },
 "nbformat": 4,
 "nbformat_minor": 5
}
