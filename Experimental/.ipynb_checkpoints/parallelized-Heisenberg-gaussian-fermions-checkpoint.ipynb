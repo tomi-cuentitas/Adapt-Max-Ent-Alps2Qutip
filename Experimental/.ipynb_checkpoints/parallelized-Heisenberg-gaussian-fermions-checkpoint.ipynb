{
 "cells": [
  {
   "cell_type": "code",
   "execution_count": 1,
   "id": "240d536a",
   "metadata": {},
   "outputs": [],
   "source": [
    "\n",
    "import sys\n",
    "path='/home/tomas/Ulmer-Berechnung/alps2qutipplus-april/alps2qutipplus-main/'\n",
    "\n",
    "sys.path.insert(1, path) "
   ]
  },
  {
   "cell_type": "code",
   "execution_count": 2,
   "id": "e4275657",
   "metadata": {
    "scrolled": false
   },
   "outputs": [],
   "source": [
    "import numpy as np\n",
    "import matplotlib.pyplot as plt\n",
    "import qutip as qutip\n",
    "import scipy.linalg as linalg\n",
    "import time\n",
    "from multiprocessing import Pool\n",
    "from itertools import product\n",
    "from typing import Optional\n",
    "\n",
    "import alpsqutip.parallelized_functions_and_workers as plME\n",
    "\n",
    "from alpsqutip import (build_system, list_models_in_alps_xml,\n",
    "                       list_geometries_in_alps_xml, graph_from_alps_xml,\n",
    "                       model_from_alps_xml,\n",
    "                       restricted_maxent_toolkit as me)\n",
    "\n",
    "from alpsqutip.operators.states.utils import safe_exp_and_normalize ## function used to safely and robustly map K-states to states\n",
    "\n",
    "from alpsqutip.scalarprod import fetch_covar_scalar_product\n",
    "from alpsqutip.operators.states.gibbs import GibbsDensityOperator, GibbsProductDensityOperator"
   ]
  },
  {
   "cell_type": "code",
   "execution_count": 30,
   "id": "a269af94",
   "metadata": {},
   "outputs": [],
   "source": [
    "\n",
    "from alpsqutip.operators.arithmetic import (\n",
    "    ScalarOperator,\n",
    "    LocalOperator,\n",
    "    OneBodyOperator,\n",
    "    Operator,\n",
    "    ProductOperator,\n",
    "    ScalarOperator,\n",
    "    SumOperator,\n",
    "    QutipOperator\n",
    ")\n",
    "\n",
    "from alpsqutip.operators.simplify import simplify_sum_operator"
   ]
  },
  {
   "cell_type": "code",
   "execution_count": 31,
   "id": "981e1689",
   "metadata": {},
   "outputs": [],
   "source": [
    "params={}\n",
    "\n",
    "params['size']=4\n",
    "params['Jx']=1.; params['Jy'] = .75*params['Jx']; params['Jz']=1.05*params['Jx']\n",
    "\n",
    "from scipy.optimize import root, fsolve\n",
    "Ffactor=np.real(max(np.roots(np.poly1d([1, 0, -(params['Jx']*params['Jy']+params['Jx']*params['Jy']+params['Jy']*params['Jz']), \n",
    "                           -2*params['Jx']*params['Jy']*params['Jz']]))))\n",
    "chi_y=fsolve(lambda x,y: x*np.arcsinh(x)-np.sqrt(x**2+1)-y, 1e-1, args=(0))[0]\n",
    "vLR=4*Ffactor*chi_y\n",
    "\n"
   ]
  },
  {
   "cell_type": "code",
   "execution_count": 32,
   "id": "d49c179e",
   "metadata": {},
   "outputs": [
    {
     "name": "stdout",
     "output_type": "stream",
     "text": [
      "loading model boson Hubbard  over graph open chain lattice\n"
     ]
    }
   ],
   "source": [
    "\n",
    "params = {\n",
    "    'size': 4,           # number of sites\n",
    "    'Nmax': 4,           # max number of bosons per site\n",
    "    't': 1.0,            # hopping parameter\n",
    "    'U': 1.0,            # on-site interaction\n",
    "}\n",
    "\n",
    "system = build_system(\n",
    "    geometry_name=\"open chain lattice\",\n",
    "    model_name=\"boson Hubbard\",\n",
    "    L=params['size'],\n",
    "    Nmax=params['Nmax']\n",
    ")\n"
   ]
  },
  {
   "cell_type": "code",
   "execution_count": 33,
   "id": "9f423383",
   "metadata": {},
   "outputs": [
    {
     "name": "stdout",
     "output_type": "stream",
     "text": [
      "loading model fermion  over graph open chain lattice\n"
     ]
    }
   ],
   "source": [
    "system = build_system(geometry_name=\"open chain lattice\", model_name=\"fermion\", \n",
    "                      L=params['size'], J=1)\n",
    "\n",
    "sites = system.sites \n",
    "c_ups = [system.site_operator(\"c_up\", str(site)) for site in sites]\n"
   ]
  },
  {
   "cell_type": "code",
   "execution_count": 34,
   "id": "830d2349",
   "metadata": {},
   "outputs": [],
   "source": [
    "HBB0=[tgt_obs,  c_ups[1].dag() * c_ups[1+1] + c_ups[1+1].dag() * c_ups[1]]\n",
    "\n",
    "phi0 = np.array([.25, .25])\n",
    "K0 = phi0@HBB0\n",
    "sigma0 = GibbsDensityOperator(K0)\n",
    "phi0[0] = np.log(sigma0.tr())\n",
    "K0 = phi0@HBB0\n",
    "sigma0 = GibbsDensityOperator(K0)"
   ]
  },
  {
   "cell_type": "code",
   "execution_count": 35,
   "id": "c21e308a",
   "metadata": {},
   "outputs": [],
   "source": [
    "H = 0\n",
    "for i in range(len(sites) - 1):\n",
    "    H += c_ups[i].dag() * c_ups[i+1] + c_ups[i+1].dag() * c_ups[i]"
   ]
  },
  {
   "cell_type": "code",
   "execution_count": 36,
   "id": "83e413c3",
   "metadata": {},
   "outputs": [],
   "source": [
    "tgt_obs = c_ups[0].dag() * c_ups[0+1] + c_ups[0+1].dag() * c_ups[0]"
   ]
  },
  {
   "cell_type": "code",
   "execution_count": 37,
   "id": "0bdd2f0d",
   "metadata": {},
   "outputs": [],
   "source": [
    "bench_op = c_ups[0].dag() * c_ups[0+1] \n",
    "\n",
    "p_op = plME.general_worker((\"projection\", (bench_op, 1, sigma0)))"
   ]
  },
  {
   "cell_type": "code",
   "execution_count": 16,
   "id": "22eecb62",
   "metadata": {},
   "outputs": [
    {
     "data": {
      "text/latex": [
       "$\\left(0 \\times \\mathbb{I}\\right)_{1[0],1[1],1[2],1[3]}$"
      ],
      "text/plain": [
       "0 * Identity_{1[0],1[1],1[2],1[3]} "
      ]
     },
     "execution_count": 16,
     "metadata": {},
     "output_type": "execute_result"
    }
   ],
   "source": [
    "p_op"
   ]
  },
  {
   "cell_type": "code",
   "execution_count": 17,
   "id": "63e34ec3",
   "metadata": {},
   "outputs": [
    {
     "data": {
      "text/latex": [
       "$\\left((-0-0j) \\times \\mathbb{I}\\right)_{1[0],1[1],1[2],1[3]}$"
      ],
      "text/plain": [
       "  ((-0-0j) * Identity_{1[0],1[1],1[2],1[3]} )"
      ]
     },
     "execution_count": 17,
     "metadata": {},
     "output_type": "execute_result"
    }
   ],
   "source": [
    "c_ups[0].dag() * (c_ups[0+1] * sigma0).tr() + c_ups[1].dag() * (c_ups[0] * sigma0).tr() - (bench_op * sigma0).tr()"
   ]
  },
  {
   "cell_type": "code",
   "execution_count": 18,
   "id": "0fefb8a8",
   "metadata": {},
   "outputs": [],
   "source": [
    "timespan=np.linspace(.0, 100/vLR,100)\n",
    "evs_obs_ex=qutip.mesolve(H=H.to_qutip(), rho0=sigma0.to_qutip()\n",
    "                         , tlist=timespan, e_ops=[tgt_obs.to_qutip()])"
   ]
  },
  {
   "cell_type": "code",
   "execution_count": 19,
   "id": "dcc84769",
   "metadata": {
    "scrolled": true
   },
   "outputs": [
    {
     "data": {
      "text/plain": [
       "array([ 0.00000000e+00, -5.46527591e-04, -2.16274046e-03, -4.77743741e-03,\n",
       "       -8.27656121e-03, -1.25058646e-02, -1.72790428e-02, -2.23869513e-02,\n",
       "       -2.76046610e-02, -3.27009804e-02, -3.74544788e-02, -4.16539176e-02,\n",
       "       -4.51151210e-02, -4.76863817e-02, -4.92531591e-02, -4.97474408e-02,\n",
       "       -4.91484296e-02, -4.74804623e-02, -4.48171481e-02, -4.12771480e-02,\n",
       "       -3.70137425e-02, -3.22161198e-02, -2.70952083e-02, -2.18761469e-02,\n",
       "       -1.67887484e-02, -1.20569948e-02, -7.88903977e-03, -4.46821369e-03,\n",
       "       -1.94504405e-03, -4.30623810e-04,  8.29212353e-06, -6.47555242e-04,\n",
       "       -2.36928869e-03, -5.08120265e-03, -8.66404452e-03, -1.29601335e-02,\n",
       "       -1.77803271e-02, -2.29125849e-02, -2.81311487e-02, -3.32064269e-02,\n",
       "       -3.79150292e-02, -4.20495844e-02, -4.54282541e-02, -4.79024215e-02,\n",
       "       -4.93631937e-02, -4.97462159e-02, -4.90345605e-02, -4.72596001e-02,\n",
       "       -4.44994326e-02, -4.08754464e-02, -3.65470332e-02, -3.17047238e-02,\n",
       "       -2.65616916e-02, -2.13441639e-02, -1.62816555e-02, -1.15969090e-02,\n",
       "       -7.49615346e-03, -4.15998609e-03, -1.73510965e-03, -3.28189767e-04,\n",
       "       -1.17497467e-06, -7.68536984e-04, -2.59653458e-03, -5.40467845e-03,\n",
       "       -9.06943077e-03, -1.34296048e-02, -1.82934048e-02, -2.34466986e-02,\n",
       "       -2.86626450e-02, -3.37118205e-02, -3.83721092e-02, -4.24384477e-02,\n",
       "       -4.57318016e-02, -4.81071374e-02, -4.94600277e-02, -4.97309572e-02,\n",
       "       -4.89079487e-02, -4.70271369e-02, -4.41713083e-02, -4.04661659e-02,\n",
       "       -3.60746978e-02, -3.11900669e-02, -2.60271612e-02, -2.08133126e-02,\n",
       "       -1.57780016e-02, -1.11426978e-02, -7.11131911e-03, -3.86127480e-03,\n",
       "       -1.53568911e-03, -2.36970100e-04, -2.21822888e-05, -9.00782503e-04,\n",
       "       -2.83417691e-03, -5.73736115e-03, -9.48251320e-03, -1.39048180e-02,\n",
       "       -1.88097462e-02, -2.39815375e-02, -2.91926495e-02, -3.42136001e-02])"
      ]
     },
     "execution_count": 19,
     "metadata": {},
     "output_type": "execute_result"
    }
   ],
   "source": [
    "evs_obs_ex.expect[0]"
   ]
  },
  {
   "cell_type": "code",
   "execution_count": 20,
   "id": "688b5ce0",
   "metadata": {},
   "outputs": [],
   "source": [
    "simulations={}\n",
    "sp_local = fetch_covar_scalar_product(sigma0)\n",
    "\n",
    "from scipy.linalg import cho_solve, cho_factor\n",
    "       \n",
    "simulations[1] = {\n",
    "    \"parms\":{\n",
    "    \"chosen_depth\": 6,\n",
    "    \"m0\": 2,\n",
    "    \"eps\": 1e-3,\n",
    "    },\n",
    "  \"saved_cut_times_index_ell\":[0],\n",
    "   \"no_acts_ell\" : [0],\n",
    "    \"local_bound_error_ell\":[],\n",
    "    \"spectral_norm_Hij_tensor_ell\":[],\n",
    "    \"instantaneous_w_errors\":[],\n",
    "} \n",
    "\n",
    "current_simulation = simulations[1]\n",
    "current_simulation_parms = current_simulation[\"parms\"]\n",
    "chosen_depth = current_simulation_parms[\"chosen_depth\"]\n",
    "eps_tol = current_simulation_parms[\"eps\"]\n",
    "m0 = current_simulation_parms[\"m0\"]\n",
    "num_workers = 1"
   ]
  },
  {
   "cell_type": "code",
   "execution_count": 43,
   "id": "17e4b28b",
   "metadata": {},
   "outputs": [],
   "source": [
    "simulations={}\n",
    "sp_local = fetch_covar_scalar_product(sigma0)\n",
    "\n",
    "from scipy.linalg import cho_solve, cho_factor\n",
    "       \n",
    "simulations[1] = {\n",
    "    \"parms\":{\n",
    "    \"chosen_depth\": 6,\n",
    "    \"m0\": 2,\n",
    "    \"eps\": 1e-3,\n",
    "    },\n",
    "  \"saved_cut_times_index_ell\":[0],\n",
    "   \"no_acts_ell\" : [0],\n",
    "    \"local_bound_error_ell\":[],\n",
    "    \"spectral_norm_Hij_tensor_ell\":[],\n",
    "    \"instantaneous_w_errors\":[],\n",
    "} \n",
    "\n",
    "current_simulation = simulations[1]\n",
    "current_simulation_parms = current_simulation[\"parms\"]\n",
    "chosen_depth = current_simulation_parms[\"chosen_depth\"]\n",
    "eps_tol = current_simulation_parms[\"eps\"]\n",
    "m0 = current_simulation_parms[\"m0\"]\n",
    "num_workers = 1"
   ]
  },
  {
   "cell_type": "code",
   "execution_count": 46,
   "id": "dd4d1a19",
   "metadata": {},
   "outputs": [],
   "source": [
    "HBB_ell_non_act=plME.parallelized_real_time_projection_of_hierarchical_basis(\n",
    "    generator=H,\n",
    "    seed_op=tgt_obs,\n",
    "    sigma_ref=GibbsDensityOperator(1e-10*H),\n",
    "    nmax=m0,\n",
    "    deep=4,\n",
    "    num_workers=num_workers,\n",
    "    tidy_thresh = 1e-20\n",
    ")\n"
   ]
  },
  {
   "cell_type": "code",
   "execution_count": 60,
   "id": "2a3fb101",
   "metadata": {},
   "outputs": [
    {
     "name": "stdout",
     "output_type": "stream",
     "text": [
      "Fita: Check 0.0\n"
     ]
    }
   ],
   "source": [
    "sp_local_non_act=me.fetch_covar_scalar_product(sigma=sigma0) ## choosing of the scalar product\n",
    "HBB_ell_non_act= [tgt_obs, 1j*me.commutator(H, tgt_obs), 1j*me.commutator(H, 1j*me.commutator(H, tgt_obs))]\n",
    "HBB_ell_non_act+=[1j*me.commutator(H, HBB_ell_non_act[:-1])]\n",
    "HBB_ell_non_act+=[1j*me.commutator(H, HBB_ell_non_act[:-1])]\n",
    "HBB_ell_non_act+=[1j*me.commutator(H, HBB_ell_non_act[:-1])]\n",
    "\n",
    "Gram_matrix_non_act = plME.parallel_gram_matrix_fine(basis = HBB_ell_non_act, \n",
    "                                                       sp = sp_local_non_act,\n",
    "                                                       num_workers=num_workers)\n",
    "R_non_act = np.linalg.cholesky(Gram_matrix_non_act).conj().T\n",
    "\n",
    "b_orth= linalg.inv(R_non_act.T) @ HBB_ell_non_act\n",
    "\n",
    "Hij_tensor_non_act_non_orth = plME.compute_Hij_tensor_non_orth(\n",
    "    basis = HBB_ell_non_act, \n",
    "    generator = H, \n",
    "    sp = sp_local_non_act,\n",
    "    sigma_ref = sigma0,\n",
    "    nmax = m0,\n",
    "    Gram = Gram_matrix_non_act,\n",
    "            num_workers=num_workers\n",
    ")\n",
    "\n",
    "Hij_tensor_non_act = (linalg.inv(R_non_act).T \n",
    "                  @ Hij_tensor_non_act_non_orth \n",
    "                  @ linalg.inv(R_non_act)) ### In this convention for R_act, the orthonormal Hij_orth is\n",
    "                                           ### Hij_orth = (R**-1).T @ Hij_non_orth @ (R**-1)\n",
    "    \n",
    "phi0_proj_non_act = np.array([sp_local_non_act(tgt_obs, op) for op in b_orth])\n",
    "new_obs_local=(phi0_proj_non_act @ b_orth).simplify()\n",
    "print(\"Fita: Check\", ((new_obs_local.to_qutip() - tgt_obs.to_qutip())).norm())\n",
    "\n",
    "phi_at_timet = np.array([\n",
    "    (linalg.expm(Hij_tensor_non_act*(t-.0)) @ phi0_proj_non_act) for t in timespan\n",
    "])\n",
    "\n",
    "K_at_timet = [(phit @ b_orth).simplify() for phit in phi_at_timet]\n",
    "#sigma_at_timet = [GibbsDensityOperator(Kt) for Kt in K_at_timet]\n",
    "evs_non_act = [(GibbsDensityOperator(K0).to_qutip() * obs_local.to_qutip()).tr()\n",
    "               for obs_local in K_at_timet]"
   ]
  },
  {
   "cell_type": "code",
   "execution_count": 61,
   "id": "aa2f6895",
   "metadata": {},
   "outputs": [
    {
     "name": "stderr",
     "output_type": "stream",
     "text": [
      "/home/tomas/miniconda3/lib/python3.12/site-packages/matplotlib/cbook.py:1719: ComplexWarning: Casting complex values to real discards the imaginary part\n",
      "  return math.isfinite(val)\n",
      "/home/tomas/miniconda3/lib/python3.12/site-packages/matplotlib/cbook.py:1355: ComplexWarning: Casting complex values to real discards the imaginary part\n",
      "  return np.asarray(x, float)\n"
     ]
    },
    {
     "data": {
      "image/png": "[encoded data removed]",
      "text/plain": [
       "<Figure size 800x500 with 1 Axes>"
      ]
     },
     "metadata": {},
     "output_type": "display_data"
    }
   ],
   "source": [
    "import matplotlib.pyplot as plt\n",
    "\n",
    "plt.figure(figsize=(8, 5))\n",
    "\n",
    "m=30\n",
    "\n",
    "# Plot both curves with labels\n",
    "plt.plot(timespan[:m], evs_obs_ex.expect[0][:m], label=r'$\\langle O(t) \\rangle$ (XX evolution)', lw=2)\n",
    "plt.plot(timespan[:m], evs_non_act[:m], label=r'$\\langle O(t) \\rangle$ (Max-Ent ell=6, m=3)', lw=2, linestyle='--')\n",
    "\n",
    "# Labels and title\n",
    "plt.xlabel(r'Time $tJ$', fontsize=14)\n",
    "plt.ylabel(r'Expectation $\\langle O(t) \\rangle$', fontsize=14)\n",
    "plt.title('Observable Dynamics under XX Evolution', fontsize=16)\n",
    "\n",
    "# Legend and grid\n",
    "plt.legend(fontsize=12)\n",
    "plt.grid(True, linestyle=':', alpha=0.5)\n",
    "\n",
    "# Ticks and layout\n",
    "plt.xticks(fontsize=12)\n",
    "plt.yticks(fontsize=12)\n",
    "plt.tight_layout()\n",
    "\n",
    "plt.show()\n"
   ]
  },
  {
   "cell_type": "code",
   "execution_count": 26,
   "id": "83f9eca9",
   "metadata": {},
   "outputs": [
    {
     "data": {
      "text/latex": [
       "$\\left(\\begin{array}{cc}0 & 0 & 0 & 0 & 0 & 0 & 0 & 0\\\\0 & 0 & 0 & 0 & 0.016j & 0 & 0 & 0\\\\0 & 0 & 0 & 0 & 0 & 0 & 0 & 0\\\\0 & 0 & 0 & 0 & 0 & 0 & -0.016j & 0\\\\0 & -0.016j & 0 & 0 & 0 & 0 & 0 & 0\\\\0 & 0 & 0 & 0 & 0 & 0 & 0 & 0\\\\0 & 0 & 0 & 0.016j & 0 & 0 & 0 & 0\\\\0 & 0 & 0 & 0 & 0 & 0 & 0 & 0\\end{array}\\right)_{1[0],1[1],1[2]} + \\left(\\begin{array}{cc}0 & 0 & 0 & 0 & 0 & 0 & 0 & 0\\\\0 & 0 & 0 & 0 & -0.020j & 0 & 0 & 0\\\\0 & 0 & 0 & 0 & 0 & 0 & 0 & 0\\\\0 & 0 & 0 & 0 & 0 & 0 & 0.020j & 0\\\\0 & 0.020j & 0 & 0 & 0 & 0 & 0 & 0\\\\0 & 0 & 0 & 0 & 0 & 0 & 0 & 0\\\\0 & 0 & 0 & -0.020j & 0 & 0 & 0 & 0\\\\0 & 0 & 0 & 0 & 0 & 0 & 0 & 0\\end{array}\\right)_{1[1],1[2],1[3]}$"
      ],
      "text/plain": [
       "(\n",
       "qutip interface operator for 1 x  \n",
       "Quantum object: dims=[[2, 2, 2], [2, 2, 2]], shape=(8, 8), type='oper', dtype=Dense, isherm=True\n",
       "Qobj data =\n",
       "[[0.+0.j       0.+0.j       0.+0.j       0.+0.j       0.+0.j\n",
       "  0.+0.j       0.+0.j       0.+0.j      ]\n",
       " [0.+0.j       0.+0.j       0.+0.j       0.+0.j       0.+0.015625j\n",
       "  0.+0.j       0.+0.j       0.+0.j      ]\n",
       " [0.+0.j       0.+0.j       0.+0.j       0.+0.j       0.+0.j\n",
       "  0.+0.j       0.+0.j       0.+0.j      ]\n",
       " [0.+0.j       0.+0.j       0.+0.j       0.+0.j       0.+0.j\n",
       "  0.+0.j       0.-0.015625j 0.+0.j      ]\n",
       " [0.+0.j       0.-0.015625j 0.+0.j       0.+0.j       0.+0.j\n",
       "  0.+0.j       0.+0.j       0.+0.j      ]\n",
       " [0.+0.j       0.+0.j       0.+0.j       0.+0.j       0.+0.j\n",
       "  0.+0.j       0.+0.j       0.+0.j      ]\n",
       " [0.+0.j       0.+0.j       0.+0.j       0.+0.015625j 0.+0.j\n",
       "  0.+0.j       0.+0.j       0.+0.j      ]\n",
       " [0.+0.j       0.+0.j       0.+0.j       0.+0.j       0.+0.j\n",
       "  0.+0.j       0.+0.j       0.+0.j      ]]\n",
       "  +qutip interface operator for 1 x  \n",
       "Quantum object: dims=[[2, 2, 2], [2, 2, 2]], shape=(8, 8), type='oper', dtype=Dense, isherm=True\n",
       "Qobj data =\n",
       "[[0.+0.j         0.+0.j         0.+0.j         0.+0.j\n",
       "  0.+0.j         0.+0.j         0.+0.j         0.+0.j        ]\n",
       " [0.+0.j         0.+0.j         0.+0.j         0.+0.j\n",
       "  0.-0.01953125j 0.+0.j         0.+0.j         0.+0.j        ]\n",
       " [0.+0.j         0.+0.j         0.+0.j         0.+0.j\n",
       "  0.+0.j         0.+0.j         0.+0.j         0.+0.j        ]\n",
       " [0.+0.j         0.+0.j         0.+0.j         0.+0.j\n",
       "  0.+0.j         0.+0.j         0.+0.01953125j 0.+0.j        ]\n",
       " [0.+0.j         0.+0.01953125j 0.+0.j         0.+0.j\n",
       "  0.+0.j         0.+0.j         0.+0.j         0.+0.j        ]\n",
       " [0.+0.j         0.+0.j         0.+0.j         0.+0.j\n",
       "  0.+0.j         0.+0.j         0.+0.j         0.+0.j        ]\n",
       " [0.+0.j         0.+0.j         0.+0.j         0.-0.01953125j\n",
       "  0.+0.j         0.+0.j         0.+0.j         0.+0.j        ]\n",
       " [0.+0.j         0.+0.j         0.+0.j         0.+0.j\n",
       "  0.+0.j         0.+0.j         0.+0.j         0.+0.j        ]]\n",
       ")"
      ]
     },
     "execution_count": 26,
     "metadata": {},
     "output_type": "execute_result"
    }
   ],
   "source": [
    "HBB_ell_non_act[-1]"
   ]
  },
  {
   "cell_type": "code",
   "execution_count": null,
   "id": "912c33d5",
   "metadata": {},
   "outputs": [],
   "source": []
  },
  {
   "cell_type": "code",
   "execution_count": null,
   "id": "1716131c",
   "metadata": {},
   "outputs": [],
   "source": []
  }
 ],
 "metadata": {
  "kernelspec": {
   "display_name": "Python (base)",
   "language": "python",
   "name": "base"
  },
  "language_info": {
   "codemirror_mode": {
    "name": "ipython",
    "version": 3
   },
   "file_extension": ".py",
   "mimetype": "text/x-python",
   "name": "python",
   "nbconvert_exporter": "python",
   "pygments_lexer": "ipython3",
   "version": "3.12.9"
  }
 },
 "nbformat": 4,
 "nbformat_minor": 5
}
